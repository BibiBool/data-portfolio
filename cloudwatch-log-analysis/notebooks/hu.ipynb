{
 "cells": [
  {
   "cell_type": "code",
   "execution_count": 2,
   "id": "a465779e-d29f-4c34-9048-82a8aa88f23b",
   "metadata": {},
   "outputs": [
    {
     "data": {
      "text/html": [
       "\n",
       "            <div>\n",
       "                <p><b>SparkSession - in-memory</b></p>\n",
       "                \n",
       "        <div>\n",
       "            <p><b>SparkContext</b></p>\n",
       "\n",
       "            <p><a href=\"http://1ccbfa67a648:4040\">Spark UI</a></p>\n",
       "\n",
       "            <dl>\n",
       "              <dt>Version</dt>\n",
       "                <dd><code>v3.3.0</code></dd>\n",
       "              <dt>Master</dt>\n",
       "                <dd><code>local[*]</code></dd>\n",
       "              <dt>AppName</dt>\n",
       "                <dd><code>compact_raw_logs</code></dd>\n",
       "            </dl>\n",
       "        </div>\n",
       "        \n",
       "            </div>\n",
       "        "
      ],
      "text/plain": [
       "<pyspark.sql.session.SparkSession at 0x782c8844b4f0>"
      ]
     },
     "execution_count": 2,
     "metadata": {},
     "output_type": "execute_result"
    }
   ],
   "source": [
    "from pyspark.sql import SparkSession\n",
    "\n",
    "spark = SparkSession.builder.appName(\"compact_raw_logs\").master(\"local[*]\").getOrCreate()\n",
    "spark"
   ]
  },
  {
   "cell_type": "code",
   "execution_count": 11,
   "id": "6d22c161",
   "metadata": {},
   "outputs": [
    {
     "name": "stdout",
     "output_type": "stream",
     "text": [
      "\n",
      "Schema after cleaning, type casting, and adding partitioning columns:\n",
      "root\n",
      " |-- x_edge_location: string (nullable = true)\n",
      " |-- sc_bytes: long (nullable = true)\n",
      " |-- c_ip: string (nullable = true)\n",
      " |-- cs_method: string (nullable = true)\n",
      " |-- cs_Host: string (nullable = true)\n",
      " |-- cs_uri_stem: string (nullable = true)\n",
      " |-- sc_status: string (nullable = true)\n",
      " |-- cs_Referer: string (nullable = true)\n",
      " |-- cs_User_Agent: string (nullable = true)\n",
      " |-- cs_uri_query: string (nullable = true)\n",
      " |-- cs_Cookie: string (nullable = true)\n",
      " |-- x_edge_result_type: string (nullable = true)\n",
      " |-- x_edge_request_id: string (nullable = true)\n",
      " |-- x_host_header: string (nullable = true)\n",
      " |-- cs_protocol: string (nullable = true)\n",
      " |-- cs_bytes: long (nullable = true)\n",
      " |-- time_taken: string (nullable = true)\n",
      " |-- x_forwarded_for: string (nullable = true)\n",
      " |-- ssl_protocol: string (nullable = true)\n",
      " |-- ssl_cipher: string (nullable = true)\n",
      " |-- x_edge_response_result_type: string (nullable = true)\n",
      " |-- cs_protocol_version: string (nullable = true)\n",
      " |-- fle_status: string (nullable = true)\n",
      " |-- fle_encrypted_fields: string (nullable = true)\n",
      " |-- c_port: string (nullable = true)\n",
      " |-- time_to_first_byte: string (nullable = true)\n",
      " |-- x_edge_detailed_result_type: string (nullable = true)\n",
      " |-- sc_content_type: string (nullable = true)\n",
      " |-- sc_content_len: string (nullable = true)\n",
      " |-- sc_range_start: long (nullable = true)\n",
      " |-- sc_range_end: long (nullable = true)\n",
      " |-- timestamp: timestamp (nullable = true)\n",
      " |-- year: integer (nullable = true)\n",
      " |-- month: integer (nullable = true)\n",
      " |-- day: integer (nullable = true)\n",
      " |-- hour: integer (nullable = true)\n",
      "\n",
      "\n",
      "Writing cleaned and repartitioned data to: /home/jupyter/raw_consolidated_data/AWSLogs/713881793976/CloudFront/*\n",
      "Repartitioning complete. Data saved to: /home/jupyter/raw_consolidated_data/AWSLogs/713881793976/CloudFront/*\n",
      "Spark session has stopped.\n"
     ]
    }
   ],
   "source": [
    "from pyspark.sql.functions import col, expr, concat_ws, to_timestamp, year, month, dayofmonth, hour\n",
    "from pyspark.sql.types import TimestampType, LongType, DoubleType, IntegerType\n",
    "\n",
    "def compact_raw_logs(input_path=\"/home/jupyter/raw_data/AWSLogs/713881793976/CloudFront/*\", \n",
    "                     output_path=\"/home/jupyter/raw_consolidated_data/AWSLogs/713881793976/CloudFront/*\"):\n",
    "\n",
    "   \n",
    "\n",
    "    try:\n",
    "        raw_logs_df = spark.read.parquet(input_path)\n",
    "\n",
    "        # Merge \"date\" and \"time\" into \"timestamp\"\n",
    "        logs_df_cleaned = raw_logs_df.withColumn(\"timestamp\", to_timestamp(concat_ws(\" \", col(\"date\"), col(\"time\")), \"yyyy-MM-dd HH:mm:ss\"))\n",
    "\n",
    "        # Correct colum types\n",
    "        logs_df_cleaned = logs_df_cleaned.withColumn(\"sc_bytes\", col(\"sc_bytes\").cast(LongType())) \\\n",
    "                                                            .withColumn(\"cs_bytes\", col(\"cs_bytes\").cast(LongType())) \\\n",
    "                                                            .withColumn(\"cs_bytes\", col(\"cs_bytes\").cast(LongType())) \\\n",
    "                                                            .withColumn(\"cs_bytes\", col(\"cs_bytes\").cast(LongType())) \\\n",
    "                                                            .withColumn(\"cs_bytes\", col(\"cs_bytes\").cast(LongType())) \\\n",
    "\n",
    "        # Handle columns where empty values are represented as '-'\n",
    "        logs_df_cleaned = logs_df_cleaned.withColumn(\"sc_range_start\", expr(\"CASE WHEN sc_range_start = '-' THEN NULL ELSE sc_range_start END\").cast(LongType())) \\\n",
    "                                         .withColumn(\"sc_range_end\", expr(\"CASE WHEN sc_range_end = '_' THEN NULL ELSE sc_range_end END\").cast(LongType()))\n",
    "\n",
    "        # Handle potential nulls in the new timestamp column (from parsing errors)\n",
    "        initial_row_count = logs_df_cleaned.count()\n",
    "        logs_df_cleaned = logs_df_cleaned.na.drop(subset=[\"timestamp\"])\n",
    "        if logs_df_cleaned.count() < initial_row_count:\n",
    "            print(f\"Number of rows dropped: {initial_row_count - logs_df_cleaned}.\")\n",
    "\n",
    "        # Extract partitioning columns (year, month, day, hour) from the new 'timestamp' column\n",
    "        logs_df_cleaned = logs_df_cleaned.withColumn(\"year\", year(col(\"timestamp\"))) \\\n",
    "                                         .withColumn(\"month\", month(col(\"timestamp\"))) \\\n",
    "                                         .withColumn(\"day\", dayofmonth(col(\"timestamp\"))) \\\n",
    "                                         .withColumn(\"hour\", hour(col(\"timestamp\")))\n",
    "\n",
    "        # Drop 'date' and 'time'\n",
    "        logs_df_cleaned = logs_df_cleaned.drop(\"date\", \"time\")\n",
    "\n",
    "        print(\"\\nSchema after cleaning, type casting, and adding partitioning columns:\")\n",
    "        logs_df_cleaned.printSchema()\n",
    "\n",
    "        print(f\"\\nWriting cleaned and repartitioned data to: {output_path}\")\n",
    "\n",
    "        # Save data partitionned by year, month, day, hour\n",
    "        logs_df_cleaned.write.mode(\"overwrite\").partitionBy(\"year\", \"month\", \"day\").parquet(\"/home/jupyter/clean_data/AWSLogs/\")\n",
    "\n",
    "\n",
    "        print(\"Repartitioning complete. Data saved to:\", output_path)\n",
    "    except Exception as e:\n",
    "        print(f\"Ane error has occurred during log processing: {e}\")\n",
    "        raise \n",
    "    finally:\n",
    "        #spark.stop()\n",
    "        print(\"Spark session has stopped.\")\n",
    "\n",
    "compact_raw_logs()"
   ]
  },
  {
   "cell_type": "code",
   "execution_count": 9,
   "id": "2fc51fff",
   "metadata": {},
   "outputs": [],
   "source": [
    "spark.stop()"
   ]
  },
  {
   "cell_type": "code",
   "execution_count": null,
   "id": "3b1c9143-018e-4d1d-8de5-6e4773dbc368",
   "metadata": {},
   "outputs": [],
   "source": []
  }
 ],
 "metadata": {
  "kernelspec": {
   "display_name": "Python 3 (ipykernel)",
   "language": "python",
   "name": "python3"
  },
  "language_info": {
   "codemirror_mode": {
    "name": "ipython",
    "version": 3
   },
   "file_extension": ".py",
   "mimetype": "text/x-python",
   "name": "python",
   "nbconvert_exporter": "python",
   "pygments_lexer": "ipython3",
   "version": "3.10.18"
  }
 },
 "nbformat": 4,
 "nbformat_minor": 5
}
