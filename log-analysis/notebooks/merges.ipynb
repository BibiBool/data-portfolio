{
 "cells": [
  {
   "cell_type": "code",
   "execution_count": 79,
   "id": "49f13162",
   "metadata": {},
   "outputs": [
    {
     "data": {
      "text/html": [
       "\n",
       "            <div>\n",
       "                <p><b>SparkSession - in-memory</b></p>\n",
       "                \n",
       "        <div>\n",
       "            <p><b>SparkContext</b></p>\n",
       "\n",
       "            <p><a href=\"http://87445d7ae4b5:4040\">Spark UI</a></p>\n",
       "\n",
       "            <dl>\n",
       "              <dt>Version</dt>\n",
       "                <dd><code>v3.3.0</code></dd>\n",
       "              <dt>Master</dt>\n",
       "                <dd><code>local[*]</code></dd>\n",
       "              <dt>AppName</dt>\n",
       "                <dd><code>Basic Transformation - I</code></dd>\n",
       "            </dl>\n",
       "        </div>\n",
       "        \n",
       "            </div>\n",
       "        "
      ],
      "text/plain": [
       "<pyspark.sql.session.SparkSession at 0x766bc8f683d0>"
      ]
     },
     "execution_count": 79,
     "metadata": {},
     "output_type": "execute_result"
    }
   ],
   "source": [
    "# Spark Session\n",
    "from pyspark.sql import SparkSession\n",
    "\n",
    "spark = (\n",
    "    SparkSession\n",
    "    .builder\n",
    "    .appName(\"Basic Transformation - I\")\n",
    "    .master(\"local[*]\")\n",
    "    .getOrCreate()\n",
    ")\n",
    "\n",
    "spark"
   ]
  },
  {
   "cell_type": "code",
   "execution_count": 80,
   "id": "e57440ee",
   "metadata": {},
   "outputs": [
    {
     "data": {
      "text/plain": [
       "16"
      ]
     },
     "execution_count": 80,
     "metadata": {},
     "output_type": "execute_result"
    }
   ],
   "source": [
    "# Check default Parallelism\n",
    "spark.sparkContext.defaultParallelism"
   ]
  },
  {
   "cell_type": "code",
   "execution_count": 81,
   "id": "70cc317b-e413-49d5-95ee-12ef3fd48e04",
   "metadata": {},
   "outputs": [],
   "source": [
    "# Read the data\n",
    "logs_df = spark.read.format(\"parquet\").load(\"/home/jupyter/raw_data/AWSLogs/713881793976/CloudFront/*\")"
   ]
  },
  {
   "cell_type": "code",
   "execution_count": 82,
   "id": "4819ea49-0332-457a-b402-0073fc17cf24",
   "metadata": {},
   "outputs": [
    {
     "name": "stdout",
     "output_type": "stream",
     "text": [
      "root\n",
      " |-- date: string (nullable = true)\n",
      " |-- time: string (nullable = true)\n",
      " |-- x_edge_location: string (nullable = true)\n",
      " |-- sc_bytes: string (nullable = true)\n",
      " |-- c_ip: string (nullable = true)\n",
      " |-- cs_method: string (nullable = true)\n",
      " |-- cs_Host: string (nullable = true)\n",
      " |-- cs_uri_stem: string (nullable = true)\n",
      " |-- sc_status: string (nullable = true)\n",
      " |-- cs_Referer: string (nullable = true)\n",
      " |-- cs_User_Agent: string (nullable = true)\n",
      " |-- cs_uri_query: string (nullable = true)\n",
      " |-- cs_Cookie: string (nullable = true)\n",
      " |-- x_edge_result_type: string (nullable = true)\n",
      " |-- x_edge_request_id: string (nullable = true)\n",
      " |-- x_host_header: string (nullable = true)\n",
      " |-- cs_protocol: string (nullable = true)\n",
      " |-- cs_bytes: string (nullable = true)\n",
      " |-- time_taken: string (nullable = true)\n",
      " |-- x_forwarded_for: string (nullable = true)\n",
      " |-- ssl_protocol: string (nullable = true)\n",
      " |-- ssl_cipher: string (nullable = true)\n",
      " |-- x_edge_response_result_type: string (nullable = true)\n",
      " |-- cs_protocol_version: string (nullable = true)\n",
      " |-- fle_status: string (nullable = true)\n",
      " |-- fle_encrypted_fields: string (nullable = true)\n",
      " |-- c_port: string (nullable = true)\n",
      " |-- time_to_first_byte: string (nullable = true)\n",
      " |-- x_edge_detailed_result_type: string (nullable = true)\n",
      " |-- sc_content_type: string (nullable = true)\n",
      " |-- sc_content_len: string (nullable = true)\n",
      " |-- sc_range_start: string (nullable = true)\n",
      " |-- sc_range_end: string (nullable = true)\n",
      "\n"
     ]
    }
   ],
   "source": [
    "logs_df.printSchema()"
   ]
  },
  {
   "cell_type": "code",
   "execution_count": 83,
   "id": "ab88ad5e-73ef-4df8-a9fc-1aa3e28dee41",
   "metadata": {},
   "outputs": [
    {
     "data": {
      "text/plain": [
       "58931"
      ]
     },
     "execution_count": 83,
     "metadata": {},
     "output_type": "execute_result"
    }
   ],
   "source": [
    "logs_df.count()"
   ]
  },
  {
   "cell_type": "code",
   "execution_count": 84,
   "id": "3ff05ae6-2dbd-43c6-9139-64789eb5cc13",
   "metadata": {},
   "outputs": [],
   "source": [
    "# Combine 'Date' and 'Time' into 'Timestamp' and cast as TimestampType\n",
    "from pyspark.sql.types import TimestampType\n",
    "from pyspark.sql.functions import col, concat_ws, to_timestamp\n",
    "logs_df_cleaned = logs_df.withColumn(\"timestamp\", to_timestamp(concat_ws(\" \", col(\"date\"), col(\"time\")), \"yyyy-MM-dd HH:mm:ss\"))"
   ]
  },
  {
   "cell_type": "code",
   "execution_count": 85,
   "id": "861f05a4-c2ff-4f6f-af84-4afda5c95d7a",
   "metadata": {},
   "outputs": [
    {
     "name": "stdout",
     "output_type": "stream",
     "text": [
      "+----------+--------+---------------+--------+-------------+---------+--------------------+--------------------+---------+--------------------+--------------------+------------+---------+------------------+--------------------+--------------------+-----------+--------+----------+---------------+------------+--------------------+---------------------------+-------------------+----------+--------------------+------+------------------+---------------------------+--------------------+--------------+--------------+------------+-------------------+\n",
      "|      date|    time|x_edge_location|sc_bytes|         c_ip|cs_method|             cs_Host|         cs_uri_stem|sc_status|          cs_Referer|       cs_User_Agent|cs_uri_query|cs_Cookie|x_edge_result_type|   x_edge_request_id|       x_host_header|cs_protocol|cs_bytes|time_taken|x_forwarded_for|ssl_protocol|          ssl_cipher|x_edge_response_result_type|cs_protocol_version|fle_status|fle_encrypted_fields|c_port|time_to_first_byte|x_edge_detailed_result_type|     sc_content_type|sc_content_len|sc_range_start|sc_range_end|          timestamp|\n",
      "+----------+--------+---------------+--------+-------------+---------+--------------------+--------------------+---------+--------------------+--------------------+------------+---------+------------------+--------------------+--------------------+-----------+--------+----------+---------------+------------+--------------------+---------------------------+-------------------+----------+--------------------+------+------------------+---------------------------+--------------------+--------------+--------------+------------+-------------------+\n",
      "|2025-04-17|09:52:49|        HKG1-P1|   44499|152.32.239.65|      GET|d8bnainxtot1t.clo...|/assets/index-Qiz...|      200|https://archivesn...|Mozilla/5.0%20(Li...|           -|        -|              Miss|F4TxT6fCKSGb0bKKv...|archivesnationale...|      https|     505|     1.271|              -|     TLSv1.3|TLS_AES_128_GCM_S...|                       Miss|           HTTP/1.1|         -|                   -| 51602|             0.818|                       Miss|application/javas...|             -|             -|           -|2025-04-17 09:52:49|\n",
      "|2025-04-17|09:52:45|        HKG1-P1|     585|152.32.239.65|      GET|d8bnainxtot1t.clo...|        /favicon.ico|      301|http://archivesna...|Mozilla/5.0%20(Li...|           -|        -|          Redirect|Cs0w8gqPBm4byzHv3...|archivesnationale...|       http|     478|     0.000|              -|           -|                   -|                   Redirect|           HTTP/1.1|         -|                   -| 34184|             0.000|                   Redirect|           text/html|           167|             -|           -|2025-04-17 09:52:45|\n",
      "|2025-04-17|09:52:47|        HKG1-P1|     574|152.32.239.65|      GET|d8bnainxtot1t.clo...|                   /|      301|http://archivesna...|Mozilla/5.0%20(Ma...|           -|        -|          Redirect|caLJBPgcdn6xteEiJ...|archivesnationale...|       http|     396|     0.000|              -|           -|                   -|                   Redirect|           HTTP/1.1|         -|                   -| 34184|             0.000|                   Redirect|           text/html|           167|             -|           -|2025-04-17 09:52:47|\n",
      "|2025-04-17|09:52:47|        HKG1-P1|     574|152.32.239.65|      GET|d8bnainxtot1t.clo...|                   /|      301|http://archivesna...|          curl/7.4.0|           -|        -|          Redirect|tnyYctBQKlw23I56J...|archivesnationale...|       http|     285|     0.000|              -|           -|                   -|                   Redirect|           HTTP/1.1|         -|                   -| 34184|             0.000|                   Redirect|           text/html|           167|             -|           -|2025-04-17 09:52:47|\n",
      "|2025-04-17|09:52:47|        HKG1-P1|     606|152.32.239.65|      GET|d8bnainxtot1t.clo...|/static/wap/css/t...|      301|http://archivesna...|Mozilla/5.0%20(Li...|           -|        -|          Redirect|oNM3qQt7oq4rFu-Gq...|archivesnationale...|       http|     520|     0.000|              -|           -|                   -|                   Redirect|           HTTP/1.1|         -|                   -| 34184|             0.000|                   Redirect|           text/html|           167|             -|           -|2025-04-17 09:52:47|\n",
      "+----------+--------+---------------+--------+-------------+---------+--------------------+--------------------+---------+--------------------+--------------------+------------+---------+------------------+--------------------+--------------------+-----------+--------+----------+---------------+------------+--------------------+---------------------------+-------------------+----------+--------------------+------+------------------+---------------------------+--------------------+--------------+--------------+------------+-------------------+\n",
      "only showing top 5 rows\n",
      "\n"
     ]
    }
   ],
   "source": [
    "logs_df_cleaned.show(5)"
   ]
  },
  {
   "cell_type": "code",
   "execution_count": 86,
   "id": "db494012-d9e9-4616-9c67-60ebae12af3f",
   "metadata": {},
   "outputs": [
    {
     "name": "stdout",
     "output_type": "stream",
     "text": [
      "root\n",
      " |-- date: string (nullable = true)\n",
      " |-- time: string (nullable = true)\n",
      " |-- x_edge_location: string (nullable = true)\n",
      " |-- sc_bytes: string (nullable = true)\n",
      " |-- c_ip: string (nullable = true)\n",
      " |-- cs_method: string (nullable = true)\n",
      " |-- cs_Host: string (nullable = true)\n",
      " |-- cs_uri_stem: string (nullable = true)\n",
      " |-- sc_status: string (nullable = true)\n",
      " |-- cs_Referer: string (nullable = true)\n",
      " |-- cs_User_Agent: string (nullable = true)\n",
      " |-- cs_uri_query: string (nullable = true)\n",
      " |-- cs_Cookie: string (nullable = true)\n",
      " |-- x_edge_result_type: string (nullable = true)\n",
      " |-- x_edge_request_id: string (nullable = true)\n",
      " |-- x_host_header: string (nullable = true)\n",
      " |-- cs_protocol: string (nullable = true)\n",
      " |-- cs_bytes: string (nullable = true)\n",
      " |-- time_taken: string (nullable = true)\n",
      " |-- x_forwarded_for: string (nullable = true)\n",
      " |-- ssl_protocol: string (nullable = true)\n",
      " |-- ssl_cipher: string (nullable = true)\n",
      " |-- x_edge_response_result_type: string (nullable = true)\n",
      " |-- cs_protocol_version: string (nullable = true)\n",
      " |-- fle_status: string (nullable = true)\n",
      " |-- fle_encrypted_fields: string (nullable = true)\n",
      " |-- c_port: string (nullable = true)\n",
      " |-- time_to_first_byte: string (nullable = true)\n",
      " |-- x_edge_detailed_result_type: string (nullable = true)\n",
      " |-- sc_content_type: string (nullable = true)\n",
      " |-- sc_content_len: string (nullable = true)\n",
      " |-- sc_range_start: string (nullable = true)\n",
      " |-- sc_range_end: string (nullable = true)\n",
      " |-- timestamp: timestamp (nullable = true)\n",
      "\n"
     ]
    }
   ],
   "source": [
    "logs_df_cleaned.printSchema()"
   ]
  },
  {
   "cell_type": "code",
   "execution_count": 87,
   "id": "8e1c07c9-d2c0-46f9-aade-c531814651fa",
   "metadata": {},
   "outputs": [],
   "source": [
    "# Cast relevant string columns to appropriate numerical types\n",
    "# Numerical columns (LongType for counts/sizes, DoubleType for time_taken/time_to_first_byte\n",
    "from pyspark.sql.types import LongType, DoubleType, IntegerType\n",
    "\n",
    "logs_df_cleaned = logs_df_cleaned.withColumn(\"sc_bytes\", col(\"sc_bytes\").cast(LongType())) \\\n",
    "                               .withColumn(\"cs_bytes\", col(\"cs_bytes\").cast(LongType())) \\\n",
    "                               .withColumn(\"time_taken\", col(\"time_taken\").cast(DoubleType())) \\\n",
    "                               .withColumn(\"c_port\", col(\"c_port\").cast(IntegerType())) \\\n",
    "                               .withColumn(\"time_to_first_byte\", col(\"time_to_first_byte\").cast(DoubleType())) \\\n",
    "                               .withColumn(\"sc_content_len\", col(\"sc_content_len\").cast(LongType()))\n",
    "\n"
   ]
  },
  {
   "cell_type": "code",
   "execution_count": 88,
   "id": "7681768b-2a22-49de-af3e-6ee9a3cffc58",
   "metadata": {},
   "outputs": [],
   "source": [
    "# Handle 'sc_range_start' and 'sc_range_end' which can be '-'\n",
    "# Convert '-' to NULL before casting to LongType\n",
    "from pyspark.sql.functions import expr\n",
    "logs_df_cleaned = logs_df_cleaned.withColumn(\"sc_range_start\", expr(\"CASE WHEN sc_range_start = '-' THEN NULL ELSE sc_range_start END\").cast(LongType())) \\\n",
    "                                 .withColumn(\"sc_range_end\", expr(\"CASE WHEN sc_range_end = '_' THEN NULL ELSE sc_range_end END\").cast(LongType()))\n"
   ]
  },
  {
   "cell_type": "code",
   "execution_count": 89,
   "id": "9280b462-6124-455d-86d0-88f3907374e4",
   "metadata": {},
   "outputs": [],
   "source": [
    "# Handle potential nulls in the new timestamp column (from parsing errors)\n",
    "initial_row_count = logs_df_cleaned.count()\n",
    "logs_df_cleaned = logs_df_cleaned.na.drop(subset=[\"timestamp\"])\n",
    "if logs_df_cleaned.count() < initial_row_count:\n",
    "    print(f\"Number of rows dropped: {initial_row_count - logs_df_cleaned}.\")"
   ]
  },
  {
   "cell_type": "code",
   "execution_count": 90,
   "id": "de340f42-2e25-48a5-a288-d6e769eaeb91",
   "metadata": {},
   "outputs": [],
   "source": [
    "# Extract partitioning columns (year, month, day, hour) from the new 'timestamp' column\n",
    "from pyspark.sql.functions import year, month, dayofmonth, hour\n",
    "logs_df_cleaned = logs_df_cleaned.withColumn(\"year\", year(col(\"timestamp\"))) \\\n",
    "                                    .withColumn(\"month\", month(col(\"timestamp\"))) \\\n",
    "                                    .withColumn(\"day\", dayofmonth(col(\"timestamp\"))) \\\n",
    "                                    .withColumn(\"hour\", hour(col(\"timestamp\")))"
   ]
  },
  {
   "cell_type": "code",
   "execution_count": 91,
   "id": "ab9e8ca4-1ae7-440d-b2e5-873b0c687e16",
   "metadata": {},
   "outputs": [],
   "source": [
    "# Drop 'date' and 'time'\n",
    "logs_df_cleaned = logs_df_cleaned.drop(\"date\", \"time\")"
   ]
  },
  {
   "cell_type": "code",
   "execution_count": 92,
   "id": "3d6f7514-7ec8-45ee-aec5-e042404c9d94",
   "metadata": {},
   "outputs": [
    {
     "name": "stdout",
     "output_type": "stream",
     "text": [
      "root\n",
      " |-- x_edge_location: string (nullable = true)\n",
      " |-- sc_bytes: long (nullable = true)\n",
      " |-- c_ip: string (nullable = true)\n",
      " |-- cs_method: string (nullable = true)\n",
      " |-- cs_Host: string (nullable = true)\n",
      " |-- cs_uri_stem: string (nullable = true)\n",
      " |-- sc_status: string (nullable = true)\n",
      " |-- cs_Referer: string (nullable = true)\n",
      " |-- cs_User_Agent: string (nullable = true)\n",
      " |-- cs_uri_query: string (nullable = true)\n",
      " |-- cs_Cookie: string (nullable = true)\n",
      " |-- x_edge_result_type: string (nullable = true)\n",
      " |-- x_edge_request_id: string (nullable = true)\n",
      " |-- x_host_header: string (nullable = true)\n",
      " |-- cs_protocol: string (nullable = true)\n",
      " |-- cs_bytes: long (nullable = true)\n",
      " |-- time_taken: double (nullable = true)\n",
      " |-- x_forwarded_for: string (nullable = true)\n",
      " |-- ssl_protocol: string (nullable = true)\n",
      " |-- ssl_cipher: string (nullable = true)\n",
      " |-- x_edge_response_result_type: string (nullable = true)\n",
      " |-- cs_protocol_version: string (nullable = true)\n",
      " |-- fle_status: string (nullable = true)\n",
      " |-- fle_encrypted_fields: string (nullable = true)\n",
      " |-- c_port: integer (nullable = true)\n",
      " |-- time_to_first_byte: double (nullable = true)\n",
      " |-- x_edge_detailed_result_type: string (nullable = true)\n",
      " |-- sc_content_type: string (nullable = true)\n",
      " |-- sc_content_len: long (nullable = true)\n",
      " |-- sc_range_start: long (nullable = true)\n",
      " |-- sc_range_end: long (nullable = true)\n",
      " |-- timestamp: timestamp (nullable = true)\n",
      " |-- year: integer (nullable = true)\n",
      " |-- month: integer (nullable = true)\n",
      " |-- day: integer (nullable = true)\n",
      " |-- hour: integer (nullable = true)\n",
      "\n"
     ]
    }
   ],
   "source": [
    "logs_df_cleaned.printSchema()"
   ]
  },
  {
   "cell_type": "code",
   "execution_count": 93,
   "id": "ce97f588-f205-4bf2-ac9a-c8bce618eb19",
   "metadata": {},
   "outputs": [],
   "source": [
    "# Save data partitionned by year, month, day, hour\n",
    "logs_df_cleaned.write.mode(\"overwrite\").partitionBy(\"year\", \"month\", \"day\", \"hour\").parquet(\"/home/jupyter/clean_data/AWSLogs/\")"
   ]
  },
  {
   "cell_type": "code",
   "execution_count": null,
   "id": "6d983d15-62ee-4150-9e69-1558afb567df",
   "metadata": {},
   "outputs": [],
   "source": []
  }
 ],
 "metadata": {
  "kernelspec": {
   "display_name": "Python 3 (ipykernel)",
   "language": "python",
   "name": "python3"
  },
  "language_info": {
   "codemirror_mode": {
    "name": "ipython",
    "version": 3
   },
   "file_extension": ".py",
   "mimetype": "text/x-python",
   "name": "python",
   "nbconvert_exporter": "python",
   "pygments_lexer": "ipython3",
   "version": "3.10.18"
  }
 },
 "nbformat": 4,
 "nbformat_minor": 5
}
