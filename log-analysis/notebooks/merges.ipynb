{
 "cells": [
  {
   "cell_type": "code",
   "execution_count": 28,
   "id": "49f13162",
   "metadata": {},
   "outputs": [
    {
     "data": {
      "text/html": [
       "\n",
       "            <div>\n",
       "                <p><b>SparkSession - in-memory</b></p>\n",
       "                \n",
       "        <div>\n",
       "            <p><b>SparkContext</b></p>\n",
       "\n",
       "            <p><a href=\"http://87445d7ae4b5:4040\">Spark UI</a></p>\n",
       "\n",
       "            <dl>\n",
       "              <dt>Version</dt>\n",
       "                <dd><code>v3.3.0</code></dd>\n",
       "              <dt>Master</dt>\n",
       "                <dd><code>local[*]</code></dd>\n",
       "              <dt>AppName</dt>\n",
       "                <dd><code>Basic Transformation - I</code></dd>\n",
       "            </dl>\n",
       "        </div>\n",
       "        \n",
       "            </div>\n",
       "        "
      ],
      "text/plain": [
       "<pyspark.sql.session.SparkSession at 0x766bc8f683d0>"
      ]
     },
     "execution_count": 28,
     "metadata": {},
     "output_type": "execute_result"
    }
   ],
   "source": [
    "# Spark Session\n",
    "from pyspark.sql import SparkSession\n",
    "\n",
    "spark = (\n",
    "    SparkSession\n",
    "    .builder\n",
    "    .appName(\"Basic Transformation - I\")\n",
    "    .master(\"local[*]\")\n",
    "    .getOrCreate()\n",
    ")\n",
    "\n",
    "spark"
   ]
  },
  {
   "cell_type": "code",
   "execution_count": 29,
   "id": "e57440ee",
   "metadata": {},
   "outputs": [
    {
     "data": {
      "text/plain": [
       "16"
      ]
     },
     "execution_count": 29,
     "metadata": {},
     "output_type": "execute_result"
    }
   ],
   "source": [
    "# Check default Parallelism\n",
    "spark.sparkContext.defaultParallelism"
   ]
  },
  {
   "cell_type": "code",
   "execution_count": 30,
   "id": "70cc317b-e413-49d5-95ee-12ef3fd48e04",
   "metadata": {},
   "outputs": [],
   "source": [
    "# Read the data\n",
    "logs_df = spark.read.format(\"parquet\").load(\"/home/jupyter/raw_data/AWSLogs/713881793976/CloudFront/*\")"
   ]
  },
  {
   "cell_type": "code",
   "execution_count": 31,
   "id": "4819ea49-0332-457a-b402-0073fc17cf24",
   "metadata": {},
   "outputs": [
    {
     "name": "stdout",
     "output_type": "stream",
     "text": [
      "root\n",
      " |-- date: string (nullable = true)\n",
      " |-- time: string (nullable = true)\n",
      " |-- x_edge_location: string (nullable = true)\n",
      " |-- sc_bytes: string (nullable = true)\n",
      " |-- c_ip: string (nullable = true)\n",
      " |-- cs_method: string (nullable = true)\n",
      " |-- cs_Host: string (nullable = true)\n",
      " |-- cs_uri_stem: string (nullable = true)\n",
      " |-- sc_status: string (nullable = true)\n",
      " |-- cs_Referer: string (nullable = true)\n",
      " |-- cs_User_Agent: string (nullable = true)\n",
      " |-- cs_uri_query: string (nullable = true)\n",
      " |-- cs_Cookie: string (nullable = true)\n",
      " |-- x_edge_result_type: string (nullable = true)\n",
      " |-- x_edge_request_id: string (nullable = true)\n",
      " |-- x_host_header: string (nullable = true)\n",
      " |-- cs_protocol: string (nullable = true)\n",
      " |-- cs_bytes: string (nullable = true)\n",
      " |-- time_taken: string (nullable = true)\n",
      " |-- x_forwarded_for: string (nullable = true)\n",
      " |-- ssl_protocol: string (nullable = true)\n",
      " |-- ssl_cipher: string (nullable = true)\n",
      " |-- x_edge_response_result_type: string (nullable = true)\n",
      " |-- cs_protocol_version: string (nullable = true)\n",
      " |-- fle_status: string (nullable = true)\n",
      " |-- fle_encrypted_fields: string (nullable = true)\n",
      " |-- c_port: string (nullable = true)\n",
      " |-- time_to_first_byte: string (nullable = true)\n",
      " |-- x_edge_detailed_result_type: string (nullable = true)\n",
      " |-- sc_content_type: string (nullable = true)\n",
      " |-- sc_content_len: string (nullable = true)\n",
      " |-- sc_range_start: string (nullable = true)\n",
      " |-- sc_range_end: string (nullable = true)\n",
      "\n"
     ]
    }
   ],
   "source": [
    "logs_df.printSchema()"
   ]
  },
  {
   "cell_type": "code",
   "execution_count": 32,
   "id": "ab88ad5e-73ef-4df8-a9fc-1aa3e28dee41",
   "metadata": {},
   "outputs": [
    {
     "data": {
      "text/plain": [
       "58931"
      ]
     },
     "execution_count": 32,
     "metadata": {},
     "output_type": "execute_result"
    }
   ],
   "source": [
    "logs_df.count()"
   ]
  },
  {
   "cell_type": "code",
   "execution_count": 24,
   "id": "9580e7d1-5c23-4b1b-be74-0098fe10664b",
   "metadata": {},
   "outputs": [],
   "source": [
    "from pyspark.sql.functions import col\n",
    "\n",
    "logs_cols = logs_df.select(\"cs_protocol\", \"time_to_first_byte\")"
   ]
  },
  {
   "cell_type": "code",
   "execution_count": 25,
   "id": "ca406982-e63e-4d45-b8d1-88fdb990d777",
   "metadata": {},
   "outputs": [
    {
     "name": "stdout",
     "output_type": "stream",
     "text": [
      "+-----------+------------------+\n",
      "|cs_protocol|time_to_first_byte|\n",
      "+-----------+------------------+\n",
      "|      https|             0.298|\n",
      "|      https|             0.268|\n",
      "|      https|             0.310|\n",
      "|      https|             0.267|\n",
      "|       http|             0.001|\n",
      "|      https|             0.053|\n",
      "+-----------+------------------+\n",
      "\n"
     ]
    }
   ],
   "source": [
    "logs_cols.show()"
   ]
  },
  {
   "cell_type": "code",
   "execution_count": 27,
   "id": "396d2f92-7604-4159-892f-a73b277477e3",
   "metadata": {},
   "outputs": [],
   "source": [
    "logs_df.write.format(\"parquet\").mode(\"append\").save(\"/home/jupyter/clean_data\")"
   ]
  },
  {
   "cell_type": "code",
   "execution_count": null,
   "id": "db494012-d9e9-4616-9c67-60ebae12af3f",
   "metadata": {},
   "outputs": [],
   "source": []
  }
 ],
 "metadata": {
  "kernelspec": {
   "display_name": "Python 3 (ipykernel)",
   "language": "python",
   "name": "python3"
  },
  "language_info": {
   "codemirror_mode": {
    "name": "ipython",
    "version": 3
   },
   "file_extension": ".py",
   "mimetype": "text/x-python",
   "name": "python",
   "nbconvert_exporter": "python",
   "pygments_lexer": "ipython3",
   "version": "3.10.18"
  }
 },
 "nbformat": 4,
 "nbformat_minor": 5
}
